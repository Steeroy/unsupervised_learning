{
  "cells": [
    {
      "cell_type": "markdown",
      "metadata": {
        "id": "CggwK3sb1PQJ"
      },
      "source": [
        "# PROJECT"
      ]
    },
    {
      "cell_type": "markdown",
      "source": [
        "Siyanda Mvunyiswa\n",
        "4009043"
      ],
      "metadata": {
        "id": "V_CU0RS-T2zj"
      }
    },
    {
      "cell_type": "markdown",
      "metadata": {
        "id": "kYw5DzcFK1cE"
      },
      "source": [
        "##Import all relevant libraries here"
      ]
    },
    {
      "cell_type": "code",
      "execution_count": 28,
      "metadata": {
        "id": "ugEKBTri1c04"
      },
      "outputs": [],
      "source": [
        "#0. import all necessary libraries\n",
        "import numpy as np\n",
        "import pandas as pd\n",
        "from sklearn.cluster import KMeans\n",
        "from matplotlib import pyplot as plt\n",
        "from sklearn.preprocessing import StandardScaler\n",
        "from sklearn.neighbors import KNeighborsClassifier\n",
        "from sklearn.model_selection import train_test_split\n",
        "from sklearn.metrics import accuracy_score\n",
        "from scipy.cluster import hierarchy as sch\n",
        "from sklearn.cluster import AgglomerativeClustering\n",
        "from sklearn.metrics import confusion_matrix"
      ]
    },
    {
      "cell_type": "markdown",
      "metadata": {
        "id": "dmKJJfnwN9sQ"
      },
      "source": [
        "## Import dataset\n"
      ]
    },
    {
      "cell_type": "markdown",
      "metadata": {
        "id": "ud0hJ2PHbWEg"
      },
      "source": [
        "The dataset has been uploaded to Google drive and the link is\n"
      ]
    },
    {
      "cell_type": "code",
      "execution_count": 6,
      "metadata": {
        "id": "B4tTrNfOOOdu",
        "colab": {
          "base_uri": "https://localhost:8080/",
          "height": 424
        },
        "outputId": "47159478-cc52-4e88-cb1b-a396bcc3d7fc"
      },
      "outputs": [
        {
          "output_type": "stream",
          "name": "stdout",
          "text": [
            "Mounted at /content/drive\n"
          ]
        },
        {
          "output_type": "execute_result",
          "data": {
            "text/plain": [
              "    Area  Perimeter  Compactness  Length  Width  Asymmetry  kernel_len  class\n",
              "0  15.26      14.84       0.8710   5.763  3.312      2.221       5.220      1\n",
              "1  14.88      14.57       0.8811   5.554  3.333      1.018       4.956      1\n",
              "2  14.29      14.09       0.9050   5.291  3.337      2.699       4.825      1\n",
              "3  13.84      13.94       0.8955   5.324  3.379      2.259       4.805      1\n",
              "4  16.14      14.99       0.9034   5.658  3.562      1.355       5.175      1\n",
              "5  14.38      14.21       0.8951   5.386  3.312      2.462       4.956      1\n",
              "6  14.69      14.49       0.8799   5.563  3.259      3.586       5.219      1\n",
              "7  14.11      14.10       0.8911   5.420  3.302      2.700       5.000      1\n",
              "8  16.63      15.46       0.8747   6.053  3.465      2.040       5.877      1\n",
              "9  16.44      15.25       0.8880   5.884  3.505      1.969       5.533      1"
            ],
            "text/html": [
              "\n",
              "  <div id=\"df-f27fe046-100c-4055-b54d-023d2e0b954e\">\n",
              "    <div class=\"colab-df-container\">\n",
              "      <div>\n",
              "<style scoped>\n",
              "    .dataframe tbody tr th:only-of-type {\n",
              "        vertical-align: middle;\n",
              "    }\n",
              "\n",
              "    .dataframe tbody tr th {\n",
              "        vertical-align: top;\n",
              "    }\n",
              "\n",
              "    .dataframe thead th {\n",
              "        text-align: right;\n",
              "    }\n",
              "</style>\n",
              "<table border=\"1\" class=\"dataframe\">\n",
              "  <thead>\n",
              "    <tr style=\"text-align: right;\">\n",
              "      <th></th>\n",
              "      <th>Area</th>\n",
              "      <th>Perimeter</th>\n",
              "      <th>Compactness</th>\n",
              "      <th>Length</th>\n",
              "      <th>Width</th>\n",
              "      <th>Asymmetry</th>\n",
              "      <th>kernel_len</th>\n",
              "      <th>class</th>\n",
              "    </tr>\n",
              "  </thead>\n",
              "  <tbody>\n",
              "    <tr>\n",
              "      <th>0</th>\n",
              "      <td>15.26</td>\n",
              "      <td>14.84</td>\n",
              "      <td>0.8710</td>\n",
              "      <td>5.763</td>\n",
              "      <td>3.312</td>\n",
              "      <td>2.221</td>\n",
              "      <td>5.220</td>\n",
              "      <td>1</td>\n",
              "    </tr>\n",
              "    <tr>\n",
              "      <th>1</th>\n",
              "      <td>14.88</td>\n",
              "      <td>14.57</td>\n",
              "      <td>0.8811</td>\n",
              "      <td>5.554</td>\n",
              "      <td>3.333</td>\n",
              "      <td>1.018</td>\n",
              "      <td>4.956</td>\n",
              "      <td>1</td>\n",
              "    </tr>\n",
              "    <tr>\n",
              "      <th>2</th>\n",
              "      <td>14.29</td>\n",
              "      <td>14.09</td>\n",
              "      <td>0.9050</td>\n",
              "      <td>5.291</td>\n",
              "      <td>3.337</td>\n",
              "      <td>2.699</td>\n",
              "      <td>4.825</td>\n",
              "      <td>1</td>\n",
              "    </tr>\n",
              "    <tr>\n",
              "      <th>3</th>\n",
              "      <td>13.84</td>\n",
              "      <td>13.94</td>\n",
              "      <td>0.8955</td>\n",
              "      <td>5.324</td>\n",
              "      <td>3.379</td>\n",
              "      <td>2.259</td>\n",
              "      <td>4.805</td>\n",
              "      <td>1</td>\n",
              "    </tr>\n",
              "    <tr>\n",
              "      <th>4</th>\n",
              "      <td>16.14</td>\n",
              "      <td>14.99</td>\n",
              "      <td>0.9034</td>\n",
              "      <td>5.658</td>\n",
              "      <td>3.562</td>\n",
              "      <td>1.355</td>\n",
              "      <td>5.175</td>\n",
              "      <td>1</td>\n",
              "    </tr>\n",
              "    <tr>\n",
              "      <th>5</th>\n",
              "      <td>14.38</td>\n",
              "      <td>14.21</td>\n",
              "      <td>0.8951</td>\n",
              "      <td>5.386</td>\n",
              "      <td>3.312</td>\n",
              "      <td>2.462</td>\n",
              "      <td>4.956</td>\n",
              "      <td>1</td>\n",
              "    </tr>\n",
              "    <tr>\n",
              "      <th>6</th>\n",
              "      <td>14.69</td>\n",
              "      <td>14.49</td>\n",
              "      <td>0.8799</td>\n",
              "      <td>5.563</td>\n",
              "      <td>3.259</td>\n",
              "      <td>3.586</td>\n",
              "      <td>5.219</td>\n",
              "      <td>1</td>\n",
              "    </tr>\n",
              "    <tr>\n",
              "      <th>7</th>\n",
              "      <td>14.11</td>\n",
              "      <td>14.10</td>\n",
              "      <td>0.8911</td>\n",
              "      <td>5.420</td>\n",
              "      <td>3.302</td>\n",
              "      <td>2.700</td>\n",
              "      <td>5.000</td>\n",
              "      <td>1</td>\n",
              "    </tr>\n",
              "    <tr>\n",
              "      <th>8</th>\n",
              "      <td>16.63</td>\n",
              "      <td>15.46</td>\n",
              "      <td>0.8747</td>\n",
              "      <td>6.053</td>\n",
              "      <td>3.465</td>\n",
              "      <td>2.040</td>\n",
              "      <td>5.877</td>\n",
              "      <td>1</td>\n",
              "    </tr>\n",
              "    <tr>\n",
              "      <th>9</th>\n",
              "      <td>16.44</td>\n",
              "      <td>15.25</td>\n",
              "      <td>0.8880</td>\n",
              "      <td>5.884</td>\n",
              "      <td>3.505</td>\n",
              "      <td>1.969</td>\n",
              "      <td>5.533</td>\n",
              "      <td>1</td>\n",
              "    </tr>\n",
              "  </tbody>\n",
              "</table>\n",
              "</div>\n",
              "      <button class=\"colab-df-convert\" onclick=\"convertToInteractive('df-f27fe046-100c-4055-b54d-023d2e0b954e')\"\n",
              "              title=\"Convert this dataframe to an interactive table.\"\n",
              "              style=\"display:none;\">\n",
              "        \n",
              "  <svg xmlns=\"http://www.w3.org/2000/svg\" height=\"24px\"viewBox=\"0 0 24 24\"\n",
              "       width=\"24px\">\n",
              "    <path d=\"M0 0h24v24H0V0z\" fill=\"none\"/>\n",
              "    <path d=\"M18.56 5.44l.94 2.06.94-2.06 2.06-.94-2.06-.94-.94-2.06-.94 2.06-2.06.94zm-11 1L8.5 8.5l.94-2.06 2.06-.94-2.06-.94L8.5 2.5l-.94 2.06-2.06.94zm10 10l.94 2.06.94-2.06 2.06-.94-2.06-.94-.94-2.06-.94 2.06-2.06.94z\"/><path d=\"M17.41 7.96l-1.37-1.37c-.4-.4-.92-.59-1.43-.59-.52 0-1.04.2-1.43.59L10.3 9.45l-7.72 7.72c-.78.78-.78 2.05 0 2.83L4 21.41c.39.39.9.59 1.41.59.51 0 1.02-.2 1.41-.59l7.78-7.78 2.81-2.81c.8-.78.8-2.07 0-2.86zM5.41 20L4 18.59l7.72-7.72 1.47 1.35L5.41 20z\"/>\n",
              "  </svg>\n",
              "      </button>\n",
              "      \n",
              "  <style>\n",
              "    .colab-df-container {\n",
              "      display:flex;\n",
              "      flex-wrap:wrap;\n",
              "      gap: 12px;\n",
              "    }\n",
              "\n",
              "    .colab-df-convert {\n",
              "      background-color: #E8F0FE;\n",
              "      border: none;\n",
              "      border-radius: 50%;\n",
              "      cursor: pointer;\n",
              "      display: none;\n",
              "      fill: #1967D2;\n",
              "      height: 32px;\n",
              "      padding: 0 0 0 0;\n",
              "      width: 32px;\n",
              "    }\n",
              "\n",
              "    .colab-df-convert:hover {\n",
              "      background-color: #E2EBFA;\n",
              "      box-shadow: 0px 1px 2px rgba(60, 64, 67, 0.3), 0px 1px 3px 1px rgba(60, 64, 67, 0.15);\n",
              "      fill: #174EA6;\n",
              "    }\n",
              "\n",
              "    [theme=dark] .colab-df-convert {\n",
              "      background-color: #3B4455;\n",
              "      fill: #D2E3FC;\n",
              "    }\n",
              "\n",
              "    [theme=dark] .colab-df-convert:hover {\n",
              "      background-color: #434B5C;\n",
              "      box-shadow: 0px 1px 3px 1px rgba(0, 0, 0, 0.15);\n",
              "      filter: drop-shadow(0px 1px 2px rgba(0, 0, 0, 0.3));\n",
              "      fill: #FFFFFF;\n",
              "    }\n",
              "  </style>\n",
              "\n",
              "      <script>\n",
              "        const buttonEl =\n",
              "          document.querySelector('#df-f27fe046-100c-4055-b54d-023d2e0b954e button.colab-df-convert');\n",
              "        buttonEl.style.display =\n",
              "          google.colab.kernel.accessAllowed ? 'block' : 'none';\n",
              "\n",
              "        async function convertToInteractive(key) {\n",
              "          const element = document.querySelector('#df-f27fe046-100c-4055-b54d-023d2e0b954e');\n",
              "          const dataTable =\n",
              "            await google.colab.kernel.invokeFunction('convertToInteractive',\n",
              "                                                     [key], {});\n",
              "          if (!dataTable) return;\n",
              "\n",
              "          const docLinkHtml = 'Like what you see? Visit the ' +\n",
              "            '<a target=\"_blank\" href=https://colab.research.google.com/notebooks/data_table.ipynb>data table notebook</a>'\n",
              "            + ' to learn more about interactive tables.';\n",
              "          element.innerHTML = '';\n",
              "          dataTable['output_type'] = 'display_data';\n",
              "          await google.colab.output.renderOutput(dataTable, element);\n",
              "          const docLink = document.createElement('div');\n",
              "          docLink.innerHTML = docLinkHtml;\n",
              "          element.appendChild(docLink);\n",
              "        }\n",
              "      </script>\n",
              "    </div>\n",
              "  </div>\n",
              "  "
            ]
          },
          "metadata": {},
          "execution_count": 6
        }
      ],
      "source": [
        "#1. import google drive into colab\n",
        "from google.colab import drive\n",
        "\n",
        "#2. mount the drive\n",
        "drive.mount('/content/drive')\n",
        "\n",
        "#3. read the dataset (in CSV format) into a python dataframe using pandas\n",
        "df = pd.read_csv('/content/drive/MyDrive/CSC311_2022/dataset/seeds_dataset.csv')\n",
        "\n",
        "#4. preview the data\n",
        "df.head(10)"
      ]
    },
    {
      "cell_type": "markdown",
      "metadata": {
        "id": "N6d3bbJTPXwI"
      },
      "source": [
        "## Separate X and Y\n",
        "## let Y be the label and X all other columns"
      ]
    },
    {
      "cell_type": "code",
      "execution_count": 7,
      "metadata": {
        "id": "xPuYsw86Plig",
        "colab": {
          "base_uri": "https://localhost:8080/",
          "height": 279
        },
        "outputId": "0d86eace-caaf-46ad-8b29-f965a8a25a88"
      },
      "outputs": [
        {
          "output_type": "display_data",
          "data": {
            "text/plain": [
              "<Figure size 432x288 with 1 Axes>"
            ],
            "image/png": "[encoded data removed]"
          },
          "metadata": {
            "needs_background": "light"
          }
        }
      ],
      "source": [
        "X = df.loc[:, df.columns != \"class\"]\n",
        "Y = df.loc[:, df.columns == \"class\"]\n",
        "\n",
        "Y = Y.replace([1, 2, 3], [0, 1, 2])\n",
        "#plot Area vs Perimeter \n",
        "plt.scatter(X.iloc[:,0], X.iloc[:,1], c='black')\n",
        "plt.xlabel(\"Area\")\n",
        "plt.ylabel(\"Perimeter\")\n",
        "plt.show()\n"
      ]
    },
    {
      "cell_type": "markdown",
      "metadata": {
        "id": "nAyiVr0MSyqY"
      },
      "source": [
        "## KMeans"
      ]
    },
    {
      "cell_type": "code",
      "execution_count": 8,
      "metadata": {
        "id": "dtc_1XAfS1Sm",
        "colab": {
          "base_uri": "https://localhost:8080/",
          "height": 296
        },
        "outputId": "fdff7d69-6673-4afe-ea41-b0f51e68cf3a"
      },
      "outputs": [
        {
          "output_type": "execute_result",
          "data": {
            "text/plain": [
              "Text(0, 0.5, 'Inertia')"
            ]
          },
          "metadata": {},
          "execution_count": 8
        },
        {
          "output_type": "display_data",
          "data": {
            "text/plain": [
              "<Figure size 432x288 with 1 Axes>"
            ],
            "image/png": "[encoded data removed]"
          },
          "metadata": {
            "needs_background": "light"
          }
        }
      ],
      "source": [
        "#scale your data\n",
        "scaler = scaler = StandardScaler()\n",
        "df_scaled = scaler.fit_transform(df)\n",
        "\n",
        "#plot an Elbow graph using 10 iterations\n",
        "#plot Inertia vs number of clusters \n",
        "\n",
        "temp = []\n",
        "for c in range(1, 11):\n",
        "  km = KMeans(n_clusters = c, init = 'k-means++')\n",
        "  km.fit(df_scaled)\n",
        "  temp.append(km.inertia_)\n",
        "\n",
        "plt.plot(range(len(temp)), temp, marker = 'x')\n",
        "plt.xlabel('Number of clusters')\n",
        "plt.ylabel('Inertia')"
      ]
    },
    {
      "cell_type": "code",
      "execution_count": 9,
      "metadata": {
        "id": "OIpeKLMZUPrn",
        "colab": {
          "base_uri": "https://localhost:8080/",
          "height": 279
        },
        "outputId": "6b450258-96e7-4140-ca90-1103439bc9df"
      },
      "outputs": [
        {
          "output_type": "display_data",
          "data": {
            "text/plain": [
              "<Figure size 432x288 with 1 Axes>"
            ],
            "image/png": "[encoded data removed]"
          },
          "metadata": {
            "needs_background": "light"
          }
        }
      ],
      "source": [
        "#cluster the dataset using k = 3\n",
        "km = KMeans(n_clusters = 3)\n",
        "labels = km.fit_predict(df_scaled)\n",
        "centroids = km.cluster_centers_\n",
        "\n",
        "cluster1 = df_scaled[labels == 0]\n",
        "cluster2 = df_scaled[labels == 1]\n",
        "cluster3 = df_scaled[labels == 2]\n",
        "\n",
        "\n",
        "#plot the results of Area and Perimeter\n",
        "#show the 3 clusters and their centroids\n",
        "plt.scatter(cluster1[:,0], cluster1[:,1], color =  'blue', label = 'cluster 1')\n",
        "plt.scatter(cluster2[:,0], cluster2[:,1], color =  'green', label = 'cluster 2')\n",
        "plt.scatter(cluster3[:,0], cluster3[:,1], color =  'red', label = 'cluster 3')\n",
        "plt.plot(centroids[:,0], centroids[:,1], 'mo', markersize=8, label = 'centroids')\n",
        "plt.xlabel('Area')\n",
        "plt.ylabel('Perimeter')\n",
        "plt.legend()\n",
        "\n",
        "plt.show()"
      ]
    },
    {
      "cell_type": "code",
      "execution_count": 10,
      "metadata": {
        "id": "uxfaUm_xvQ9c",
        "colab": {
          "base_uri": "https://localhost:8080/",
          "height": 279
        },
        "outputId": "f9f08d50-e547-4e09-80aa-47bf4e77255a"
      },
      "outputs": [
        {
          "output_type": "display_data",
          "data": {
            "text/plain": [
              "<Figure size 432x288 with 1 Axes>"
            ],
            "image/png": "[encoded data removed]"
          },
          "metadata": {
            "needs_background": "light"
          }
        }
      ],
      "source": [
        "#plot the results of Length and Width \n",
        "#show the 3 clusters and their centroids\n",
        "plt.scatter(cluster1[:,3], cluster1[:,4], color =  'blue', label = 'cluster 1')\n",
        "plt.scatter(cluster2[:,3], cluster2[:,4], color =  'green', label = 'cluster 2')\n",
        "plt.scatter(cluster3[:,3], cluster3[:,4], color =  'red', label = 'cluster 3')\n",
        "plt.plot(centroids[:,3], centroids[:,4], 'mo', markersize=8, label = 'centroids')\n",
        "plt.xlabel('Length')\n",
        "plt.ylabel('Width')\n",
        "plt.legend()\n",
        "\n",
        "plt.show()"
      ]
    },
    {
      "cell_type": "code",
      "execution_count": 11,
      "metadata": {
        "id": "uy5cMsGLYWIt",
        "colab": {
          "base_uri": "https://localhost:8080/",
          "height": 541
        },
        "outputId": "f6466d93-15c5-456d-ef67-30cbf8b6de35"
      },
      "outputs": [
        {
          "output_type": "display_data",
          "data": {
            "text/plain": [
              "<Figure size 432x288 with 1 Axes>"
            ],
            "image/png": "[encoded data removed]"
          },
          "metadata": {
            "needs_background": "light"
          }
        },
        {
          "output_type": "display_data",
          "data": {
            "text/plain": [
              "<Figure size 432x288 with 1 Axes>"
            ],
            "image/png": "[encoded data removed]"
          },
          "metadata": {
            "needs_background": "light"
          }
        }
      ],
      "source": [
        "#Now lets cluster the dataset using the number of k you select from the Elbow method above\n",
        "km = KMeans(n_clusters = 2)\n",
        "labels = km.fit_predict(df_scaled)\n",
        "centroids = km.cluster_centers_\n",
        "\n",
        "cluster1 = df_scaled[labels == 0]\n",
        "cluster2 = df_scaled[labels == 1]\n",
        "\n",
        "#plot the results of Area and Perimeter \n",
        "#show the 2 clusters and their centroids\n",
        "plt.scatter(cluster1[:,0], cluster1[:,1], color =  'blue', label = 'cluster 1')\n",
        "plt.scatter(cluster2[:,0], cluster2[:,1], color =  'green', label = 'cluster 2')\n",
        "plt.plot(centroids[:,0], centroids[:,1], 'mo', markersize=8, label = 'centroids')\n",
        "plt.xlabel('Area')\n",
        "plt.ylabel('Perimeter')\n",
        "plt.legend()\n",
        "plt.show()\n",
        "\n",
        "##plot the results of Length and Width \n",
        "#show the 2 clusters and their centroids\n",
        "plt.scatter(cluster1[:,3], cluster1[:,4], color =  'blue', label = 'cluster 1')\n",
        "plt.scatter(cluster2[:,3], cluster2[:,4], color =  'green', label = 'cluster 2')\n",
        "plt.plot(centroids[:,3], centroids[:,4], 'mo', markersize=8, label = 'centroids')\n",
        "plt.xlabel('Length')\n",
        "plt.ylabel('Width')\n",
        "plt.legend()\n",
        "plt.show()\n"
      ]
    },
    {
      "cell_type": "markdown",
      "metadata": {
        "id": "eCthgZs5daDW"
      },
      "source": [
        "### Calculate Accuracies of KMeans"
      ]
    },
    {
      "cell_type": "code",
      "execution_count": 23,
      "metadata": {
        "id": "EC0qTYDydY5X",
        "colab": {
          "base_uri": "https://localhost:8080/"
        },
        "outputId": "e0df098a-55b9-4d22-a8c8-11fa0ac8cb3a"
      },
      "outputs": [
        {
          "output_type": "stream",
          "name": "stdout",
          "text": [
            "Accuracy Score of (k = 3) =  33.80952380952381\n",
            "Accuracy Score of (k = 2) =  7.6190476190476195\n"
          ]
        }
      ],
      "source": [
        "#compare accucies of both clustering i.e. k = 3 vs k = your choice\n",
        "km = KMeans(n_clusters = 3)\n",
        "labels1 = km.fit_predict(X)\n",
        "KM3acc = (accuracy_score(Y,labels1) * 100)\n",
        "print(\"Accuracy Score of (k = 3) = \", KM3acc)\n",
        "\n",
        "km = KMeans(n_clusters = 2)\n",
        "labels2 = km.fit_predict(X)\n",
        "KM2acc = (accuracy_score(Y,labels2) * 100)\n",
        "print(\"Accuracy Score of (k = 2) = \", KM2acc)"
      ]
    },
    {
      "cell_type": "markdown",
      "metadata": {
        "id": "xjs_6iTedOVI"
      },
      "source": [
        "##AHC"
      ]
    },
    {
      "cell_type": "code",
      "execution_count": 13,
      "metadata": {
        "id": "dMl0jhQUdR0W",
        "colab": {
          "base_uri": "https://localhost:8080/",
          "height": 279
        },
        "outputId": "09808915-a38d-4820-ac00-4651ce188a41"
      },
      "outputs": [
        {
          "output_type": "display_data",
          "data": {
            "text/plain": [
              "<Figure size 432x288 with 1 Axes>"
            ],
            "image/png": "[encoded data removed]"
          },
          "metadata": {
            "needs_background": "light"
          }
        }
      ],
      "source": [
        "#Plot Dendrogram to determin the number of clusters\n",
        "sch.dendrogram(sch.linkage(X,method=\"ward\"))\n",
        "plt.xlabel(\"Clusters\")\n",
        "plt.ylabel(\"Euclidean Distance\")\n",
        "plt.show()"
      ]
    },
    {
      "cell_type": "code",
      "execution_count": 14,
      "metadata": {
        "id": "lRk-vgDfh2rF"
      },
      "outputs": [],
      "source": [
        "#Perform AHC clustering with number of clusters found in the dendrogram\n",
        "scaler = StandardScaler()\n",
        "\n",
        "ahc = AgglomerativeClustering(n_clusters = 2, affinity = 'euclidean', linkage = 'ward')\n",
        "y = ahc.fit_predict(X)"
      ]
    },
    {
      "cell_type": "code",
      "execution_count": 15,
      "metadata": {
        "id": "gu4E_QrK_Efw",
        "colab": {
          "base_uri": "https://localhost:8080/",
          "height": 279
        },
        "outputId": "989b9eb0-b482-4c37-8a31-70685668f05f"
      },
      "outputs": [
        {
          "output_type": "display_data",
          "data": {
            "text/plain": [
              "<Figure size 432x288 with 1 Axes>"
            ],
            "image/png": "[encoded data removed]"
          },
          "metadata": {
            "needs_background": "light"
          }
        }
      ],
      "source": [
        "#plot scatter plots from B2, for Lenght and width, including cluster centroids\n",
        "X = np.array(X)\n",
        "plt.scatter(X[y == 0, 3], X[y==0, 4], c = 'red', label = 'Cluster1')\n",
        "plt.scatter(X[y == 1, 3], X[y==1, 4], c = 'blue', label = 'Cluster2')\n",
        "plt.xlabel('Length')\n",
        "plt.ylabel('Width')\n",
        "plt.legend()\n",
        "plt.show()"
      ]
    },
    {
      "cell_type": "code",
      "execution_count": 21,
      "metadata": {
        "id": "PLQiyYUQ_SgG",
        "colab": {
          "base_uri": "https://localhost:8080/"
        },
        "outputId": "c80cfccb-7ea2-42d4-8293-cde95fea067e"
      },
      "outputs": [
        {
          "output_type": "stream",
          "name": "stdout",
          "text": [
            "Accuracy Score =  63.33333333333333\n"
          ]
        }
      ],
      "source": [
        "#check accuracy\n",
        "AHCacc = accuracy_score(Y,y)*100\n",
        "print(\"Accuracy Score = \" , AHCacc)"
      ]
    },
    {
      "cell_type": "markdown",
      "metadata": {
        "id": "69l0ZCxEtWYe"
      },
      "source": [
        "## KNN"
      ]
    },
    {
      "cell_type": "code",
      "execution_count": 17,
      "metadata": {
        "id": "FrUTJu8-tSYp",
        "colab": {
          "base_uri": "https://localhost:8080/"
        },
        "outputId": "2364488a-0fba-4809-8758-c93120ba74da"
      },
      "outputs": [
        {
          "output_type": "stream",
          "name": "stderr",
          "text": [
            "/usr/local/lib/python3.7/dist-packages/sklearn/neighbors/_classification.py:198: DataConversionWarning: A column-vector y was passed when a 1d array was expected. Please change the shape of y to (n_samples,), for example using ravel().\n",
            "  return self._fit(X, y)\n"
          ]
        }
      ],
      "source": [
        "#cluster the dataset using KNN and k = 3\n",
        "classifier = KNeighborsClassifier(n_neighbors = 3)\n",
        "classifier.fit(X, Y)\n",
        "\n",
        "results = classifier.predict(X)\n"
      ]
    },
    {
      "cell_type": "code",
      "execution_count": 18,
      "metadata": {
        "id": "tc5AjmlKC1Ii",
        "colab": {
          "base_uri": "https://localhost:8080/",
          "height": 279
        },
        "outputId": "61f116ee-d412-4136-d685-ded7034f58bf"
      },
      "outputs": [
        {
          "output_type": "display_data",
          "data": {
            "text/plain": [
              "<Figure size 432x288 with 1 Axes>"
            ],
            "image/png": "[encoded data removed]"
          },
          "metadata": {
            "needs_background": "light"
          }
        }
      ],
      "source": [
        "#Plot a scatter plot for \"Lenght\" and \"Width\" clusters\n",
        "X = np.array(X)\n",
        "plt.scatter(X[results == 0, 3], X[results==0, 4], c = 'red', label = 'Cluster1')\n",
        "plt.scatter(X[results == 1, 3], X[results==1, 4], c = 'blue', label = 'Cluster2')\n",
        "plt.xlabel('Length')\n",
        "plt.ylabel('Width')\n",
        "plt.legend()\n",
        "plt.show()"
      ]
    },
    {
      "cell_type": "code",
      "execution_count": 22,
      "metadata": {
        "id": "cOBR8wmOtUtL",
        "colab": {
          "base_uri": "https://localhost:8080/"
        },
        "outputId": "c020c65b-a831-4b62-c492-2120e5708f65"
      },
      "outputs": [
        {
          "output_type": "stream",
          "name": "stdout",
          "text": [
            "Accuracy Score =  96.66666666666667\n"
          ]
        }
      ],
      "source": [
        "#Results - compare prediction results with known values of Y\n",
        "KNNacc = accuracy_score(Y,results)*100\n",
        "print(\"Accuracy Score = \" , KNNacc)"
      ]
    },
    {
      "cell_type": "code",
      "execution_count": 29,
      "metadata": {
        "id": "PYXy45mwDH48",
        "colab": {
          "base_uri": "https://localhost:8080/"
        },
        "outputId": "cbb46e69-0b09-48b0-e154-3832efc82042"
      },
      "outputs": [
        {
          "output_type": "execute_result",
          "data": {
            "text/plain": [
              "array([[65,  0,  5],\n",
              "       [ 2, 68,  0],\n",
              "       [ 0,  0, 70]])"
            ]
          },
          "metadata": {},
          "execution_count": 29
        }
      ],
      "source": [
        "#draw a confusion matrix of KNN\n",
        "confusion_matrix(Y, results)"
      ]
    },
    {
      "cell_type": "code",
      "source": [
        "#Bar graph of accuracies\n",
        "fig = plt.figure()\n",
        "ax = fig.add_axes([0,0,1,1])\n",
        "models = ['KMeans', 'AHC', 'KNN']\n",
        "accuracies = [KM3acc, AHCacc, KNNacc]\n",
        "ax.bar(models, accuracies)\n",
        "plt.xlabel('Models')\n",
        "plt.ylabel('Accuracies')\n",
        "plt.show()"
      ],
      "metadata": {
        "colab": {
          "base_uri": "https://localhost:8080/",
          "height": 350
        },
        "id": "kOVX9bxgcdcK",
        "outputId": "32713ac9-5bd7-43d3-9dd2-beff4a517e2d"
      },
      "execution_count": 30,
      "outputs": [
        {
          "output_type": "display_data",
          "data": {
            "text/plain": [
              "<Figure size 432x288 with 1 Axes>"
            ],
            "image/png": "[encoded data removed]"
          },
          "metadata": {
            "needs_background": "light"
          }
        }
      ]
    }
  ],
  "metadata": {
    "colab": {
      "name": "CSC311_UnsupervisedLearning_2022_Project.ipynb",
      "provenance": [],
      "collapsed_sections": []
    },
    "kernelspec": {
      "display_name": "Python 3 (ipykernel)",
      "language": "python",
      "name": "python3"
    },
    "language_info": {
      "codemirror_mode": {
        "name": "ipython",
        "version": 3
      },
      "file_extension": ".py",
      "mimetype": "text/x-python",
      "name": "python",
      "nbconvert_exporter": "python",
      "pygments_lexer": "ipython3",
      "version": "3.9.12"
    }
  },
  "nbformat": 4,
  "nbformat_minor": 0
}